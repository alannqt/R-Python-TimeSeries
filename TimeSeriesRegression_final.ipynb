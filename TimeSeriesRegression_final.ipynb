{
 "cells": [
  {
   "cell_type": "code",
   "execution_count": 1,
   "metadata": {
    "colab": {},
    "colab_type": "code",
    "id": "2cNdWKx_p3WR"
   },
   "outputs": [],
   "source": [
    "#import the required libraries\n",
    "import pandas as pd\n",
    "from datetime import datetime\n",
    "import numpy as np\n",
    "import matplotlib.pyplot as plt\n",
    "import statsmodels.api as sm\n",
    "import urllib.request\n",
    "import matplotlib.pyplot as plt\n",
    "from sklearn.metrics import mean_squared_error\n",
    "from sklearn.feature_selection import f_regression, mutual_info_regression\n",
    "from sklearn.preprocessing import PolynomialFeatures\n",
    "from sklearn.linear_model import LinearRegression\n",
    "import statsmodels.api as sm\n",
    "from scipy import stats\n",
    "from math import sqrt\n",
    "%matplotlib inline"
   ]
  },
  {
   "cell_type": "code",
   "execution_count": 2,
   "metadata": {
    "colab": {},
    "colab_type": "code",
    "id": "CcmpTBqzG_qR"
   },
   "outputs": [],
   "source": [
    "#helper method to create regression model\n",
    "def create_model(degree, x_train, x_test ):\n",
    "  polynomial_features = PolynomialFeatures(degree = degree)\n",
    "  xp_train = polynomial_features.fit_transform(x_train)\n",
    "  xp_test = polynomial_features.fit_transform(x_test)\n",
    "  model = sm.OLS(y_train,xp_train).fit()\n",
    "  return xp_train,xp_test, model"
   ]
  },
  {
   "cell_type": "code",
   "execution_count": 3,
   "metadata": {
    "colab": {
     "base_uri": "https://localhost:8080/",
     "height": 50
    },
    "colab_type": "code",
    "executionInfo": {
     "elapsed": 8368,
     "status": "ok",
     "timestamp": 1567498041136,
     "user": {
      "displayName": "Mohamed Dhameem M",
      "photoUrl": "",
      "userId": "12441903358789228073"
     },
     "user_tz": -480
    },
    "id": "de0ymsgzrIH-",
    "outputId": "c41b884a-e1d3-4e4f-a0b3-53d0e2bdb93c"
   },
   "outputs": [
    {
     "name": "stdout",
     "output_type": "stream",
     "text": [
      "oil.price    241\n",
      "dtype: int64\n"
     ]
    }
   ],
   "source": [
    "#read the CSV File from the local location\n",
    "df = pd.read_csv('D:\\\\Storage\\\\Sch\\\\KE5108\\\\CA3\\\\oil.price.dat.txt')\n",
    "print(df.count())\n",
    "#set the index from 0\n",
    "df.index = pd.RangeIndex(start=1, stop=242, step=1)"
   ]
  },
  {
   "cell_type": "code",
   "execution_count": 4,
   "metadata": {
    "colab": {},
    "colab_type": "code",
    "id": "86QeLRq8r5KA"
   },
   "outputs": [],
   "source": [
    "#Prepare the dataset for train and test for 12 months\n",
    "#Split the data set\n",
    "train_12 = df.iloc[:229,:]\n",
    "test_12 = df.iloc[229:,:]\n",
    "\n",
    "x_train_12 = np.array(train_12.index)\n",
    "x_train_12 = x_train_12.reshape(-1,1)\n",
    "y_train_12 = np.array(train_12['oil.price'])\n",
    "y_train_12 = y_train_12.reshape(-1,1)\n",
    "\n",
    "x_test_12 = np.array(test_12.index)\n",
    "x_test_12 = x_test_12.reshape(-1,1)\n",
    "y_test_12 = np.array(test_12['oil.price'])\n",
    "y_test_12 = y_test_12.reshape(-1,1)"
   ]
  },
  {
   "cell_type": "code",
   "execution_count": 5,
   "metadata": {},
   "outputs": [],
   "source": [
    "#Prepare the dataset for train and test for 6 months\n",
    "#Split the data set\n",
    "train_6 = df.iloc[:235,:]\n",
    "test_6 = df.iloc[235:,:]\n",
    "\n",
    "x_train_6 = np.array(train_6.index)\n",
    "x_train_6 = x_train_6.reshape(-1,1)\n",
    "y_train_6 = np.array(train_6['oil.price'])\n",
    "y_train_6 = y_train_6.reshape(-1,1)\n",
    "\n",
    "x_test_6 = np.array(test_6.index)\n",
    "x_test_6 = x_test_6.reshape(-1,1)\n",
    "y_test_6 = np.array(test_6['oil.price'])\n",
    "y_test_6 = y_test_6.reshape(-1,1)"
   ]
  },
  {
   "cell_type": "code",
   "execution_count": 6,
   "metadata": {
    "colab": {
     "base_uri": "https://localhost:8080/",
     "height": 570
    },
    "colab_type": "code",
    "executionInfo": {
     "elapsed": 8354,
     "status": "ok",
     "timestamp": 1567498041138,
     "user": {
      "displayName": "Mohamed Dhameem M",
      "photoUrl": "",
      "userId": "12441903358789228073"
     },
     "user_tz": -480
    },
    "id": "w50_PodVH8xV",
    "outputId": "b77d5f53-19cc-4f7d-bd3c-b6c988475889"
   },
   "outputs": [],
   "source": [
    "#here we do the experiment of degree to find best model\n",
    "result = {}\n",
    "result_aic = {}\n",
    "result_bic = {}\n",
    "\n",
    "x_train = x_train_6 #change to 12 for 12 month training\n",
    "x_test = x_test_6\n",
    "\n",
    "y_train = y_train_6\n",
    "y_test = y_test_6\n",
    "\n",
    "for i in range(10):\n",
    "    xp_train,xp_test, model = create_model(i, x_train, x_test)\n",
    "    ypred = model.predict(xp_train)\n",
    "    rmse = sqrt(mean_squared_error(y_train, ypred))\n",
    "    result.update({i:rmse})\n",
    "    result_aic.update({i:model.aic})\n",
    "    result_bic.update({i:model.bic})"
   ]
  },
  {
   "cell_type": "code",
   "execution_count": 7,
   "metadata": {},
   "outputs": [
    {
     "data": {
      "text/plain": [
       "{0: 8.654737496512796,\n",
       " 1: 6.562058017002936,\n",
       " 2: 5.292490769803882,\n",
       " 3: 4.0760505089249275,\n",
       " 4: 4.035437345117475,\n",
       " 5: 3.982419986472446,\n",
       " 6: 3.7424551176395897,\n",
       " 7: 5.346290296048528,\n",
       " 8: 6.482772836563856,\n",
       " 9: 7.745552483411113}"
      ]
     },
     "execution_count": 7,
     "metadata": {},
     "output_type": "execute_result"
    }
   ],
   "source": [
    "result"
   ]
  },
  {
   "cell_type": "code",
   "execution_count": 8,
   "metadata": {},
   "outputs": [
    {
     "data": {
      "text/plain": [
       "{0: 1683.2113340898588,\n",
       " 1: 1555.1141202602148,\n",
       " 2: 1456.0569312113569,\n",
       " 3: 1335.311508929554,\n",
       " 4: 1332.6050119610545,\n",
       " 5: 1328.3892561261214,\n",
       " 6: 1301.1797775799755,\n",
       " 7: 1466.8104819653277,\n",
       " 8: 1557.400823692379,\n",
       " 9: 1639.0469492047391}"
      ]
     },
     "execution_count": 8,
     "metadata": {},
     "output_type": "execute_result"
    }
   ],
   "source": [
    "result_aic"
   ]
  },
  {
   "cell_type": "code",
   "execution_count": 9,
   "metadata": {},
   "outputs": [
    {
     "data": {
      "text/plain": [
       "{0: 1686.670919604003,\n",
       " 1: 1562.033291288503,\n",
       " 2: 1466.4356877537894,\n",
       " 3: 1349.1498509861308,\n",
       " 4: 1349.9029395317752,\n",
       " 5: 1349.1467692109863,\n",
       " 6: 1325.3968761789847,\n",
       " 7: 1487.5679950501926,\n",
       " 8: 1578.158336777244,\n",
       " 9: 1656.3448767754599}"
      ]
     },
     "execution_count": 9,
     "metadata": {},
     "output_type": "execute_result"
    }
   ],
   "source": [
    "result_bic"
   ]
  },
  {
   "cell_type": "code",
   "execution_count": 10,
   "metadata": {},
   "outputs": [
    {
     "data": {
      "text/plain": [
       "3.7424551176395897"
      ]
     },
     "execution_count": 10,
     "metadata": {},
     "output_type": "execute_result"
    }
   ],
   "source": [
    "#to run prediction on the model choosen\n",
    "x_train = x_train_6\n",
    "x_test = x_test_6\n",
    "\n",
    "y_train = y_train_6\n",
    "y_test = y_test_6\n",
    "\n",
    "xp_train,xp_test, model = create_model(6, x_train, x_test)\n",
    "ypred_train = model.predict(xp_train)\n",
    "rmse = sqrt(mean_squared_error(y_train, ypred_train))\n",
    "rmse"
   ]
  },
  {
   "cell_type": "code",
   "execution_count": 11,
   "metadata": {},
   "outputs": [
    {
     "data": {
      "image/png": "[encoded data removed]",
      "text/plain": [
       "<Figure size 432x288 with 1 Axes>"
      ]
     },
     "metadata": {},
     "output_type": "display_data"
    }
   ],
   "source": [
    "plt.title(\"Training Data\")\n",
    "plt.scatter(x_train,y_train)\n",
    "plt.plot(x_train,ypred_train)\n",
    "plt.show()"
   ]
  },
  {
   "cell_type": "code",
   "execution_count": 12,
   "metadata": {},
   "outputs": [
    {
     "data": {
      "text/plain": [
       "5.732708994871272"
      ]
     },
     "execution_count": 12,
     "metadata": {},
     "output_type": "execute_result"
    }
   ],
   "source": [
    "#to run prediction on the model choosen\n",
    "x_train = x_train_12\n",
    "x_test = x_test_12\n",
    "\n",
    "y_train = y_train_12\n",
    "y_test = y_test_12\n",
    "\n",
    "xp_train,xp_test, model = create_model(6, x_train, x_test)\n",
    "ypred_test = model.predict(xp_test)\n",
    "rmse = sqrt(mean_squared_error(y_test, ypred_test))\n",
    "rmse"
   ]
  },
  {
   "cell_type": "code",
   "execution_count": 13,
   "metadata": {},
   "outputs": [
    {
     "data": {
      "image/png": "[encoded data removed]",
      "text/plain": [
       "<Figure size 432x288 with 1 Axes>"
      ]
     },
     "metadata": {},
     "output_type": "display_data"
    }
   ],
   "source": [
    "plt.title(\"Test Data\")\n",
    "plt.scatter(x_test,y_test)\n",
    "plt.plot(x_test,ypred_test)\n",
    "plt.show()"
   ]
  },
  {
   "cell_type": "code",
   "execution_count": null,
   "metadata": {},
   "outputs": [],
   "source": []
  }
 ],
 "metadata": {
  "colab": {
   "collapsed_sections": [],
   "name": "TimeSeriesRegression.ipynb",
   "provenance": [],
   "version": "0.3.2"
  },
  "kernelspec": {
   "display_name": "Python 3",
   "language": "python",
   "name": "python3"
  },
  "language_info": {
   "codemirror_mode": {
    "name": "ipython",
    "version": 3
   },
   "file_extension": ".py",
   "mimetype": "text/x-python",
   "name": "python",
   "nbconvert_exporter": "python",
   "pygments_lexer": "ipython3",
   "version": "3.6.5"
  }
 },
 "nbformat": 4,
 "nbformat_minor": 1
}
